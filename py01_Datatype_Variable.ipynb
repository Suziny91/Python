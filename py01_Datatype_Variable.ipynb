{
 "cells": [
  {
   "cell_type": "markdown",
   "metadata": {},
   "source": [
    "## 변수와 데이터 타입\n",
    "    파이썬에서의 데이터 타입들\n",
    "    \n",
    "     int - 정수\n",
    "     float - 실수\n",
    "     bool - False, True (맨 앞은 꼭 대문자)\n",
    "     \n",
    "     str - 문자열\n",
    "     list - 리스트, 순서가 있는 값들의 집합 [ ], 값은 변경 가능\n",
    "     tuple - 튜플, 순서가 있는 값들의 집합 ( ), 값은 변경 불가\n",
    "     \n",
    "     set - 순서 없고 중복 안되는 값들의 집합, {  }\n",
    "     dic - 키와 값이 쌍으로 저장되는 값들의 집합, {'key':value}\n",
    "     "
   ]
  },
  {
   "cell_type": "code",
   "execution_count": 1,
   "metadata": {},
   "outputs": [
    {
     "name": "stdout",
     "output_type": "stream",
     "text": [
      "3\n",
      "3.5\n",
      "Hello\n",
      "Hello\n",
      "**\n",
      "******************************\n",
      "<class 'int'>\n",
      "<class 'float'>\n",
      "<class 'str'>\n",
      "<class 'str'>\n"
     ]
    }
   ],
   "source": [
    "a = 3\n",
    "b = 3.5\n",
    "c = 'Hello'\n",
    "d = \"Hello\"\n",
    "\n",
    "print(a)\n",
    "print(b)\n",
    "print(c)\n",
    "print(d)\n",
    "\n",
    "print('*' + '*') # 문자열 + : 더해진다.\n",
    "print('*' * 30)\n",
    "\n",
    "#값들의 타입을 출력...type() 함수를 이용\n",
    "print(type(a))\n",
    "print(type(b))\n",
    "print(type(c))\n",
    "print(type(d))\n"
   ]
  },
  {
   "cell_type": "code",
   "execution_count": 2,
   "metadata": {},
   "outputs": [
    {
     "name": "stdout",
     "output_type": "stream",
     "text": [
      "True\n",
      "False\n"
     ]
    }
   ],
   "source": [
    "e = 3\n",
    "f = 3.0\n",
    "print(e == f)\n",
    "print(type(e)==type(f))"
   ]
  },
  {
   "cell_type": "markdown",
   "metadata": {},
   "source": [
    "## 실행시 값을 입력 받는 함수 input()"
   ]
  },
  {
   "cell_type": "code",
   "execution_count": 3,
   "metadata": {},
   "outputs": [
    {
     "name": "stdout",
     "output_type": "stream",
     "text": [
      "값입력3700\n",
      "입력된 값 ::  3700\n",
      "<class 'str'>\n",
      "<class 'int'>\n"
     ]
    }
   ],
   "source": [
    "# input()로 입력된 값은 타입이 무조건 str이다.\n",
    "data = input('값입력')\n",
    "print('입력된 값 :: ', data)\n",
    "print(type(data))\n",
    "\n",
    "newdata = int(data)\n",
    "print(type(newdata))"
   ]
  },
  {
   "cell_type": "markdown",
   "metadata": {},
   "source": [
    "### 연산자와 포멧팅"
   ]
  },
  {
   "cell_type": "code",
   "execution_count": 4,
   "metadata": {},
   "outputs": [
    {
     "name": "stdout",
     "output_type": "stream",
     "text": [
      "1.6666666666666667\n",
      "1\n",
      "2\n"
     ]
    },
    {
     "data": {
      "text/plain": [
       "['__abs__',\n",
       " '__add__',\n",
       " '__and__',\n",
       " '__bool__',\n",
       " '__ceil__',\n",
       " '__class__',\n",
       " '__delattr__',\n",
       " '__dir__',\n",
       " '__divmod__',\n",
       " '__doc__',\n",
       " '__eq__',\n",
       " '__float__',\n",
       " '__floor__',\n",
       " '__floordiv__',\n",
       " '__format__',\n",
       " '__ge__',\n",
       " '__getattribute__',\n",
       " '__getnewargs__',\n",
       " '__gt__',\n",
       " '__hash__',\n",
       " '__index__',\n",
       " '__init__',\n",
       " '__init_subclass__',\n",
       " '__int__',\n",
       " '__invert__',\n",
       " '__le__',\n",
       " '__lshift__',\n",
       " '__lt__',\n",
       " '__mod__',\n",
       " '__mul__',\n",
       " '__ne__',\n",
       " '__neg__',\n",
       " '__new__',\n",
       " '__or__',\n",
       " '__pos__',\n",
       " '__pow__',\n",
       " '__radd__',\n",
       " '__rand__',\n",
       " '__rdivmod__',\n",
       " '__reduce__',\n",
       " '__reduce_ex__',\n",
       " '__repr__',\n",
       " '__rfloordiv__',\n",
       " '__rlshift__',\n",
       " '__rmod__',\n",
       " '__rmul__',\n",
       " '__ror__',\n",
       " '__round__',\n",
       " '__rpow__',\n",
       " '__rrshift__',\n",
       " '__rshift__',\n",
       " '__rsub__',\n",
       " '__rtruediv__',\n",
       " '__rxor__',\n",
       " '__setattr__',\n",
       " '__sizeof__',\n",
       " '__str__',\n",
       " '__sub__',\n",
       " '__subclasshook__',\n",
       " '__truediv__',\n",
       " '__trunc__',\n",
       " '__xor__',\n",
       " 'as_integer_ratio',\n",
       " 'bit_length',\n",
       " 'conjugate',\n",
       " 'denominator',\n",
       " 'from_bytes',\n",
       " 'imag',\n",
       " 'numerator',\n",
       " 'real',\n",
       " 'to_bytes']"
      ]
     },
     "execution_count": 4,
     "metadata": {},
     "output_type": "execute_result"
    }
   ],
   "source": [
    "num1 = 5\n",
    "num2 = 3\n",
    "print(num1 / num2) #float로 반환\n",
    "print(num1 // num2) #나눈 몫을 구함...나머지는 버린다.\n",
    "remain = num1 % num2\n",
    "print(remain)\n",
    "\n",
    "'''\n",
    "파이썬의 모든 변수는 객체로 취급된다.\n",
    "그렇기 때문에 당연히 메소드가 있다.\n",
    "\n",
    "'''\n",
    "dir(num1)\n"
   ]
  },
  {
   "cell_type": "code",
   "execution_count": 5,
   "metadata": {},
   "outputs": [
    {
     "data": {
      "text/plain": [
       "111"
      ]
     },
     "execution_count": 5,
     "metadata": {},
     "output_type": "execute_result"
    }
   ],
   "source": [
    "int(True)\n",
    "int(False)\n",
    "int(e)\n",
    "float(e)\n",
    "round(44.78)\n",
    "int('111')"
   ]
  },
  {
   "cell_type": "code",
   "execution_count": 6,
   "metadata": {},
   "outputs": [
    {
     "name": "stdout",
     "output_type": "stream",
     "text": [
      "James 의 나이는 40 세 입니다.\n"
     ]
    }
   ],
   "source": [
    "name = 'James'\n",
    "age = 40\n",
    "print(name, '의 나이는', age, '세 입니다.')"
   ]
  },
  {
   "cell_type": "markdown",
   "metadata": {},
   "source": [
    "## 문제1\n",
    "    키보드로 초를 입력 받아서 다음과 같이 출력합니다.\n",
    "    \n",
    "    입력받는 초 ---- ex) 3700\n",
    "    출력 양식 ---- 3700초는 1시간 1분 40초 입니다.\n",
    "    \n",
    "    사용되는 연산자는? //, %"
   ]
  },
  {
   "cell_type": "code",
   "execution_count": 7,
   "metadata": {},
   "outputs": [
    {
     "name": "stdout",
     "output_type": "stream",
     "text": [
      "초 입력3700\n",
      "3700초는 1 시간 1분 40초 입니다.\n"
     ]
    }
   ],
   "source": [
    "data = int(input('초 입력'))\n",
    "hour = data//3600\n",
    "minute = (data%3600)//60\n",
    "sec = (data%3600)%60\n",
    "#print(data, '초는 ', hour,'시간 ', minute,'분 ', sec,'초 입니다.')\n",
    "\n",
    "print('%d초는 %d 시간 %d분 %d초 입니다.' %(data, hour, minute, sec))"
   ]
  },
  {
   "cell_type": "code",
   "execution_count": 9,
   "metadata": {},
   "outputs": [
    {
     "name": "stdout",
     "output_type": "stream",
     "text": [
      "True\n",
      "False\n",
      "1358021038320\n",
      "1358021038160\n"
     ]
    }
   ],
   "source": [
    "'''\n",
    "숫자(int, float), str, Tuple 타입은 Immutable객체이다.\n",
    "데이터가 변경되는 순간 새로운 객체가 생성된다.\n",
    "기존의 데이터를 변경하는 것은 불가능하다.\n",
    "\n",
    "'''\n",
    "a = 257\n",
    "b = 257\n",
    "print(a == b)\n",
    "print(a is b)\n",
    "\n",
    "print(id(a))\n",
    "print(id(b))\n",
    "\n"
   ]
  },
  {
   "cell_type": "code",
   "execution_count": 10,
   "metadata": {},
   "outputs": [
    {
     "name": "stdout",
     "output_type": "stream",
     "text": [
      "True\n",
      "True\n",
      "140719417868288\n",
      "140719417868288\n"
     ]
    }
   ],
   "source": [
    "'''\n",
    "-5 ~ 256 사이의 값들은\n",
    "메모리를 효율적으로 사용하기 위해서 \n",
    "이 범위에 있는 값들은 한번만 개체를 만들고 나서 다시 만들지 않는다.\n",
    "'''\n",
    "a = 200\n",
    "b = 200\n",
    "\n",
    "# 값 비교\n",
    "print(a == b)\n",
    "# 객체 비교\n",
    "print(a is b)\n",
    "\n",
    "print(id(a))\n",
    "print(id(b))\n"
   ]
  },
  {
   "cell_type": "code",
   "execution_count": 11,
   "metadata": {},
   "outputs": [
    {
     "name": "stdout",
     "output_type": "stream",
     "text": [
      "hello\n",
      "hello\n",
      "\n",
      "        This is\n",
      "        Mystr3 Test\n",
      "        hello....\n",
      "        \n"
     ]
    }
   ],
   "source": [
    "mystr1 = 'hello'\n",
    "mystr2 = \"hello\"\n",
    "mystr3 = '''\n",
    "        This is\n",
    "        Mystr3 Test\n",
    "        hello....\n",
    "        '''\n",
    "\n",
    "print(mystr1)\n",
    "print(mystr2)\n",
    "print(mystr3)"
   ]
  },
  {
   "cell_type": "code",
   "execution_count": 12,
   "metadata": {},
   "outputs": [
    {
     "name": "stdout",
     "output_type": "stream",
     "text": [
      "손흥민의 나이는 29, 이번 경기 평점은 4.79입니다.\n",
      "현재 시간은 2021년 5월 10일 입니다.\n"
     ]
    }
   ],
   "source": [
    "name = '손흥민'\n",
    "age = 29\n",
    "grade = 4.789\n",
    "\n",
    "#포멧팅 처리해서 출력하기\n",
    "print('%s의 나이는 %d, 이번 경기 평점은 %0.2f입니다.' %(name, age, grade))\n",
    "\n",
    "#포멧팅2\n",
    "import time\n",
    "now=time.localtime()\n",
    "\n",
    "print('현재 시간은 %d년 %d월 %d일 입니다.' %(now.tm_year,now.tm_mon, now.tm_mday))"
   ]
  },
  {
   "cell_type": "code",
   "execution_count": null,
   "metadata": {},
   "outputs": [],
   "source": []
  }
 ],
 "metadata": {
  "kernelspec": {
   "display_name": "Python 3",
   "language": "python",
   "name": "python3"
  },
  "language_info": {
   "codemirror_mode": {
    "name": "ipython",
    "version": 3
   },
   "file_extension": ".py",
   "mimetype": "text/x-python",
   "name": "python",
   "nbconvert_exporter": "python",
   "pygments_lexer": "ipython3",
   "version": "3.8.5"
  }
 },
 "nbformat": 4,
 "nbformat_minor": 4
}
