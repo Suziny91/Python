{
 "cells": [
  {
   "cell_type": "markdown",
   "metadata": {},
   "source": [
    "### 문자열\n",
    "     인덱싱과 슬라이싱\n",
    "     split(), join()\n",
    "     "
   ]
  },
  {
   "cell_type": "code",
   "execution_count": 1,
   "metadata": {},
   "outputs": [],
   "source": [
    "mystr = '20210510Cloudy'\n",
    "\n",
    "#인덱스와 슬라이싱을 이용해서 날짜와 날씨를 각각 할당하세요.\n",
    "mydata = mystr[0:8]\n",
    "\n",
    "weather = mystr[-6:]\n",
    "\n",
    "print(mydata)\n",
    "print(weather)\n",
    "\n",
    "\n",
    "all = mystr[:]\n",
    "print(all)"
   ]
  },
  {
   "cell_type": "code",
   "execution_count": 2,
   "metadata": {},
   "outputs": [
    {
     "name": "stdout",
     "output_type": "stream",
     "text": [
      "미나리, 경계선, 기생충, 메트릭스\n",
      "['미나리', ' 경계선', ' 기생충', ' 메트릭스']\n",
      "미나리 경계선 기생충 메트릭스\n"
     ]
    }
   ],
   "source": [
    "movies = '미나리, 경계선, 기생충, 메트릭스'\n",
    "print(movies)\n",
    "\n",
    "moviesL = movies.split(\",\")\n",
    "print(moviesL)\n",
    "\n",
    "#join()은 str에 적용되는 함수\n",
    "#구분자, join(리스트)\n",
    "movie = ''\n",
    "movie = movie.join(moviesL)\n",
    "print(movie)"
   ]
  },
  {
   "cell_type": "markdown",
   "metadata": {},
   "source": [
    "## 리스트 생성, 추가, 삭제\n",
    "\n",
    "#### 1. 리스트 생성하기"
   ]
  },
  {
   "cell_type": "code",
   "execution_count": 3,
   "metadata": {},
   "outputs": [
    {
     "name": "stdout",
     "output_type": "stream",
     "text": [
      "[2, 5, 3, 10, 4]\n",
      "[]\n",
      "[]\n"
     ]
    },
    {
     "data": {
      "text/plain": [
       "[2, 5, 3, 10, 4]"
      ]
     },
     "execution_count": 3,
     "metadata": {},
     "output_type": "execute_result"
    }
   ],
   "source": [
    "mylist1 = [2,5,3,10,4]\n",
    "mylist2 = []\n",
    "mylist3 = list()\n",
    "\n",
    "print(mylist1)\n",
    "print(mylist2)\n",
    "print(mylist3)\n",
    "\n",
    "len(mylist1)\n",
    "# len(mylist2)\n",
    "\n",
    "mylist3.extend(mylist1) #확장됨\n",
    "mylist3"
   ]
  },
  {
   "cell_type": "markdown",
   "metadata": {},
   "source": [
    "#### 2. 리스트 수정하기\n"
   ]
  },
  {
   "cell_type": "code",
   "execution_count": 4,
   "metadata": {},
   "outputs": [
    {
     "data": {
      "text/plain": [
       "[2, 5, 3, -10, 4]"
      ]
     },
     "execution_count": 4,
     "metadata": {},
     "output_type": "execute_result"
    }
   ],
   "source": [
    "mylist1[3] = -10\n",
    "mylist1 #값 변경 가능"
   ]
  },
  {
   "cell_type": "markdown",
   "metadata": {},
   "source": [
    "#### 2. 리스트 수정하기\n",
    "    - append()\n",
    "    - insert()"
   ]
  },
  {
   "cell_type": "code",
   "execution_count": 5,
   "metadata": {},
   "outputs": [],
   "source": [
    "mylist1.append?\n",
    "mylist1.insert?"
   ]
  },
  {
   "cell_type": "code",
   "execution_count": 6,
   "metadata": {},
   "outputs": [
    {
     "data": {
      "text/plain": [
       "[2, 5, 3, -10, 4]"
      ]
     },
     "execution_count": 6,
     "metadata": {},
     "output_type": "execute_result"
    }
   ],
   "source": [
    "mylist1"
   ]
  },
  {
   "cell_type": "code",
   "execution_count": 7,
   "metadata": {},
   "outputs": [
    {
     "data": {
      "text/plain": [
       "[2, 5, 3, -10, 4, 100]"
      ]
     },
     "execution_count": 7,
     "metadata": {},
     "output_type": "execute_result"
    }
   ],
   "source": [
    "mylist1.append(100)\n",
    "mylist1"
   ]
  },
  {
   "cell_type": "code",
   "execution_count": 8,
   "metadata": {},
   "outputs": [
    {
     "data": {
      "text/plain": [
       "[2, 5, 3, 200, -10, 4, 100]"
      ]
     },
     "execution_count": 8,
     "metadata": {},
     "output_type": "execute_result"
    }
   ],
   "source": [
    "mylist1.insert(3,200)\n",
    "mylist1"
   ]
  },
  {
   "cell_type": "code",
   "execution_count": 9,
   "metadata": {},
   "outputs": [
    {
     "data": {
      "text/plain": [
       "[-200, 2, 5, 3, 200, -10, 4, 100]"
      ]
     },
     "execution_count": 9,
     "metadata": {},
     "output_type": "execute_result"
    }
   ],
   "source": [
    "# 리스트 가장 마지막에 -200을 추가...insert()를 사용...마지막을 의미하는 인덱스를 적용\n",
    "mylist1.insert(0,-200)\n",
    "mylist1"
   ]
  },
  {
   "cell_type": "code",
   "execution_count": 10,
   "metadata": {},
   "outputs": [
    {
     "data": {
      "text/plain": [
       "[-200, 2, 5, 3, 200, -10, 4, 100]"
      ]
     },
     "execution_count": 10,
     "metadata": {},
     "output_type": "execute_result"
    }
   ],
   "source": [
    "\n",
    "mylist1\n"
   ]
  },
  {
   "cell_type": "code",
   "execution_count": 11,
   "metadata": {},
   "outputs": [
    {
     "data": {
      "text/plain": [
       "[-200, 2, 5, 3, 200, -10, 4, 100, -200]"
      ]
     },
     "execution_count": 11,
     "metadata": {},
     "output_type": "execute_result"
    }
   ],
   "source": [
    "# 리스트 가장 마지막에 -200을 추가...append 사용하지 말고 \n",
    "mylist1.insert(len(mylist1),-200) #마지막 인덱스가 len()-1\n",
    "mylist1"
   ]
  },
  {
   "cell_type": "markdown",
   "metadata": {},
   "source": [
    "#### 4. 리스트 삭제하기\n",
    "    del : 인덱스로 삭제\n",
    "    remove : 삭제할 값을 직접 입력\n",
    "    pop : 맨 마지막 값을 삭제한 후 리턴함"
   ]
  },
  {
   "cell_type": "code",
   "execution_count": 12,
   "metadata": {},
   "outputs": [
    {
     "data": {
      "text/plain": [
       "[4]"
      ]
     },
     "execution_count": 12,
     "metadata": {},
     "output_type": "execute_result"
    }
   ],
   "source": [
    "mylist = [1, 2, 3, 4, 4, 5]\n",
    "del mylist[2]\n",
    "\n",
    "del mylist[0:2]\n",
    "mylist\n",
    "\n",
    "mylist.remove(4) # remove는 삭제할 값을 직접 입력. 같은 값이 있다면 앞에 값이 삭제된다.\n",
    "\n",
    "a = mylist.pop()\n",
    "a\n",
    "\n",
    "mylist"
   ]
  },
  {
   "cell_type": "markdown",
   "metadata": {},
   "source": [
    "#### 5. 리스트에서 값 추출하기"
   ]
  },
  {
   "cell_type": "code",
   "execution_count": 13,
   "metadata": {},
   "outputs": [
    {
     "name": "stdout",
     "output_type": "stream",
     "text": [
      "[2, 3]\n",
      "[1, 2, 3]\n",
      "[5, 6, 7, 8]\n",
      "[6, 7, 8]\n"
     ]
    },
    {
     "data": {
      "text/plain": [
       "[8, 7, 6, 5, 4, 3, 2, 1]"
      ]
     },
     "execution_count": 13,
     "metadata": {},
     "output_type": "execute_result"
    }
   ],
   "source": [
    "myL = [1, 2, 3, 4, 5, 6, 7, 8]\n",
    "print(myL[1:3]) \n",
    "print(myL[:3])\n",
    "print(myL[4:])\n",
    "print(myL[-3:])\n",
    "\n",
    "myL.sort(reverse=True)\n",
    "myL"
   ]
  },
  {
   "cell_type": "markdown",
   "metadata": {},
   "source": [
    "### 문제 1. \n",
    "    100,200,[10,20,30],300,400,500으로 리스트를 변경하세요"
   ]
  },
  {
   "cell_type": "code",
   "execution_count": 14,
   "metadata": {},
   "outputs": [
    {
     "data": {
      "text/plain": [
       "[100, 200, [10, 20, 30], 300, 400, 500]"
      ]
     },
     "execution_count": 14,
     "metadata": {},
     "output_type": "execute_result"
    }
   ],
   "source": [
    "a = [100,200,300,400,500]\n",
    "b = [10, 20, 30]\n",
    "\n",
    "#인덱싱 방법을 써서\n",
    "#a[2] = b\n",
    "\n",
    "\n",
    "#슬라이싱 방법을 써서\n",
    "#a[2:3] = b\n",
    "\n",
    "a.insert(2,b)\n",
    "a"
   ]
  },
  {
   "cell_type": "code",
   "execution_count": 15,
   "metadata": {},
   "outputs": [
    {
     "name": "stdout",
     "output_type": "stream",
     "text": [
      "Variable   Type    Data/Info\n",
      "----------------------------\n",
      "a          list    n=6\n",
      "all        str     20210510Cloudy\n",
      "b          list    n=3\n",
      "movie      str     미나리 경계선 기생충 메트릭스\n",
      "movies     str     미나리, 경계선, 기생충, 메트릭스\n",
      "moviesL    list    n=4\n",
      "myL        list    n=8\n",
      "mydata     str     20210510\n",
      "mylist     list    n=1\n",
      "mylist1    list    n=9\n",
      "mylist2    list    n=0\n",
      "mylist3    list    n=5\n",
      "mystr      str     20210510Cloudy\n",
      "weather    str     Cloudy\n"
     ]
    }
   ],
   "source": [
    "'''\n",
    "파이썬에서 모든 변수는 객체이다.\n",
    "who옵션을 사용하면 지금까지 사용한 객체변수명을 한번에 출력\n",
    "동시에 간단한 정보도 확인 할 수 있다.\n",
    "\n",
    "%who\n",
    "%whos - 변수명 뿐만 아니라 그에 해당하는 변수 값도 함께 출력\n",
    "'''\n",
    " \n",
    "%whos"
   ]
  },
  {
   "cell_type": "code",
   "execution_count": 34,
   "metadata": {},
   "outputs": [
    {
     "name": "stdout",
     "output_type": "stream",
     "text": [
      "[3, 4, 5]\n",
      "True\n"
     ]
    }
   ],
   "source": [
    "'''\n",
    "list() 내장함수와 \n",
    "list 전역변수의 이름이 동일하게 사용된 경우 \n",
    "\n",
    "이렇게 동일한 이름의 변수 선언시\n",
    "메모리에서 찾는 순서\n",
    "1)로컬 변수는 로컬영역에 저장 --- 여기를 가장 먼저 뒤진다.\n",
    "2)전역 변수는 전역영역에 저장 --- 여기를 두번째로 찾는다.\n",
    "3)내장 변수는 내장영역에 저장 --- 여기를 가장 마지막으로 찾는다.\n",
    "\n",
    "--> \n",
    "아래에서 전역변수 부분을 먼저 찾아서 돌려놓고 \n",
    "그런 다음에 내장변수를 찾았더니... 이미 위에서 사용된 이름이라서 \n",
    "내장 변수에서 에러가 나다.\n",
    "\n",
    "Restart를 해서 메모리에서 싹 지워버리고 \n",
    "새롭게 다른 이름으로 할당\n",
    "'''\n",
    "aList = list('abcd')\n",
    "aList\n",
    "\n",
    "list_data = [3,4,5]\n",
    "print(list_data)\n",
    "list_data.sort(reverse=True) #내림차순\n",
    "list_data\n",
    "\n",
    "print(5 in list_data)"
   ]
  },
  {
   "cell_type": "markdown",
   "metadata": {},
   "source": [
    "#### 6. 2차원 배열에서 데이터 추출하기"
   ]
  },
  {
   "cell_type": "code",
   "execution_count": 23,
   "metadata": {},
   "outputs": [
    {
     "name": "stdout",
     "output_type": "stream",
     "text": [
      "[[1, 3], [4, 6]]\n",
      "6\n"
     ]
    }
   ],
   "source": [
    "test2D = [[1,3],[4,6]]\n",
    "print(test2D)\n",
    "print(test2D[1][1])"
   ]
  },
  {
   "cell_type": "code",
   "execution_count": 25,
   "metadata": {},
   "outputs": [
    {
     "data": {
      "text/plain": [
       "[['hello', 'pyyhon'], ['good-bye', 'c']]"
      ]
     },
     "execution_count": 25,
     "metadata": {},
     "output_type": "execute_result"
    }
   ],
   "source": [
    "myLang = [['hello','pyyhon'], ['good-bye','c']]\n",
    "myLang"
   ]
  },
  {
   "cell_type": "code",
   "execution_count": 32,
   "metadata": {},
   "outputs": [
    {
     "name": "stdout",
     "output_type": "stream",
     "text": [
      "good\n",
      "good\n"
     ]
    }
   ],
   "source": [
    "# 위 2차원 배열에서 good만 뽑아서 출력해보세요.\n",
    "\n",
    "print(myLang[1][0][:4])\n",
    "print(myLang[1][0].split('-')[0])"
   ]
  },
  {
   "cell_type": "code",
   "execution_count": null,
   "metadata": {},
   "outputs": [],
   "source": []
  },
  {
   "cell_type": "code",
   "execution_count": null,
   "metadata": {},
   "outputs": [],
   "source": []
  }
 ],
 "metadata": {
  "kernelspec": {
   "display_name": "Python 3",
   "language": "python",
   "name": "python3"
  },
  "language_info": {
   "codemirror_mode": {
    "name": "ipython",
    "version": 3
   },
   "file_extension": ".py",
   "mimetype": "text/x-python",
   "name": "python",
   "nbconvert_exporter": "python",
   "pygments_lexer": "ipython3",
   "version": "3.8.5"
  }
 },
 "nbformat": 4,
 "nbformat_minor": 4
}
